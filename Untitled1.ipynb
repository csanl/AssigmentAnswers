{
 "cells": [
  {
   "cell_type": "code",
   "execution_count": 1,
   "metadata": {},
   "outputs": [
    {
     "data": {
      "text/plain": [
       "true"
      ]
     },
     "execution_count": 1,
     "metadata": {},
     "output_type": "execute_result"
    }
   ],
   "source": [
    "require 'bio'"
   ]
  },
  {
   "cell_type": "code",
   "execution_count": 98,
   "metadata": {},
   "outputs": [
    {
     "data": {
      "text/plain": [
       "#<Bio::FlatFile:0x0000000001b49690 @stream=#<Bio::FlatFile::BufferedInputStream:0x0000000001b496e0 @io=#<File:./TAIR_prueba.fa>, @path=\"./TAIR_prueba.fa\", @buffer=\"\">, @dbclass=Bio::FastaFormat, @splitter=#<Bio::FlatFile::Splitter::Default:0x0000000001b49550 @dbclass=Bio::FastaFormat, @stream=#<Bio::FlatFile::BufferedInputStream:0x0000000001b496e0 @io=#<File:./TAIR_prueba.fa>, @path=\"./TAIR_prueba.fa\", @buffer=\"\">, @entry_pos_flag=nil, @delimiter=\"\\n>\", @header=nil, @delimiter_overrun=1>, @skip_leader_mode=:firsttime, @firsttime_flag=true, @raw=false>"
      ]
     },
     "execution_count": 98,
     "metadata": {},
     "output_type": "execute_result"
    }
   ],
   "source": [
    "search_file = Bio::FastaFormat.open('./pep_prueba.fa')\n",
    "target_file = Bio::FastaFormat.open('./TAIR_prueba.fa')"
   ]
  },
  {
   "cell_type": "code",
   "execution_count": 93,
   "metadata": {},
   "outputs": [
    {
     "data": {
      "text/plain": [
       ":type"
      ]
     },
     "execution_count": 93,
     "metadata": {},
     "output_type": "execute_result"
    }
   ],
   "source": [
    "def type(filename)\n",
    " i=0\n",
    "  while i<2\n",
    "    filename.each do |report|\n",
    "      type = Bio::Sequence.new(report.seq)\n",
    "      if type.guess(0.9, 100) == Bio::Sequence::AA\n",
    "       return \"Prot\"\n",
    "      i+=1\n",
    "      elsif type.guess(0.9, 100) == Bio::Sequence::NA\n",
    "       return \"Nucl\"\n",
    "      i+=1\n",
    "      else \n",
    "        puts \"no automatic detection, insert Prot or Nucl\"\n",
    "        type = gets.chomp\n",
    "        return type\n",
    "      end\n",
    "    end\n",
    "  end\n",
    "end\n",
    "      "
   ]
  },
  {
   "cell_type": "code",
   "execution_count": null,
   "metadata": {},
   "outputs": [],
   "source": []
  },
  {
   "cell_type": "code",
   "execution_count": 99,
   "metadata": {},
   "outputs": [
    {
     "data": {
      "text/plain": [
       "false"
      ]
     },
     "execution_count": 99,
     "metadata": {},
     "output_type": "execute_result"
    }
   ],
   "source": [
    "# # We create the object of the output file and print its title\n",
    "# out_file = create_and_open_file('output_ortologues.txt')\n",
    "# out_file.puts \"ORTHOLOGUES FOUND in files #{search_file} and #{target_file}\\n\"\n",
    "\n",
    "\n",
    "# We create the directory where we will store the databases and obtain the databases names \n",
    "system(\"mkdir db\")\n",
    "\n",
    "\n",
    "# We format the names that the databases will have\n",
    "db_search = search_file.to_s + '_db'\n",
    "db_target = target_file.to_s + '_db'\n",
    "\n",
    "\n",
    "# We create the databases\n",
    "system(\"makeblastdb -in '#{search_file}' -dbtype #{type(search_file)} -out ./db/#{db_search.to_s}\") \n",
    "system(\"makeblastdb -in '#{target_file}' -dbtype #{type(target_file)} -out ./db/#{db_target.to_s}\")\n"
   ]
  },
  {
   "cell_type": "code",
   "execution_count": 100,
   "metadata": {},
   "outputs": [
    {
     "data": {
      "text/plain": [
       "#<Bio::Blast:0x00000000013d7d80 @program=\"tblastn\", @db=\"./Databases/#<Bio::FlatFile:0x0000000001b49690>_db\", @blastall=\"blastall\", @matrix=nil, @filter=nil, @output=\"\", @parser=nil, @format=7, @options=[], @server=\"local\">"
      ]
     },
     "execution_count": 100,
     "metadata": {},
     "output_type": "execute_result"
    }
   ],
   "source": [
    "if type(search_file) == 'Nucl' and type(target_file) == 'Nucl' # Both files contain genomes\n",
    "    factory_search = Bio::Blast.local('blastn', \"./Databases/#{db_search.to_s}\")\n",
    "    factory_target = Bio::Blast.local('blastn', \"./Databases/#{db_target.to_s}\")\n",
    "\n",
    "elsif type(search_file) == 'Prot' and type(target_file) == 'Prot' # Both files contain proteomes\n",
    "    factory_search = Bio::Blast.local('blastp', \"./Databases/#{db_search.to_s}\")\n",
    "    factory_target = Bio::Blast.local('blastp', \"./Databases/#{db_target.to_s}\")\n",
    "\n",
    "elsif type(search_file) == 'Nucl' and type(target_file) == 'Prot' # First file contains a genome and the second one a proteome\n",
    "    factory_search = Bio::Blast.local('tblastn', \"./Databases/#{db_search.to_s}\")\n",
    "    factory_target = Bio::Blast.local('blastx', \"./Databases/#{db_target.to_s}\")\n",
    "    \n",
    "elsif type(search_file) == 'Prot' and type(target_file) == 'Nucl' # First file contains a proteome and the second one a genome\n",
    "    factory_search = Bio::Blast.local('blastx', \"./Databases/#{db_search.to_s}\")\n",
    "    factory_target = Bio::Blast.local('tblastn', \"./Databases/#{db_target.to_s}\")\n",
    "end\n"
   ]
  },
  {
   "cell_type": "code",
   "execution_count": 101,
   "metadata": {},
   "outputs": [
    {
     "data": {
      "text/plain": [
       ":pre_blast"
      ]
     },
     "execution_count": 101,
     "metadata": {},
     "output_type": "execute_result"
    }
   ],
   "source": [
    "def pre_blast (search_blast, target_blast)\n",
    "  factory_search = Bio::Blast.local(search_blast, \"./Databases/#{db_search.to_s}\")\n",
    "  factory_target = Bio::Blast.local(target_blast, \"./Databases/#{db_target.to_s}\")\n",
    "end\n"
   ]
  },
  {
   "cell_type": "code",
   "execution_count": 103,
   "metadata": {},
   "outputs": [
    {
     "ename": "NameError",
     "evalue": "undefined local variable or method `db_search' for main:Object",
     "output_type": "error",
     "traceback": [
      "\u001b[31mNameError\u001b[0m: undefined local variable or method `db_search' for main:Object",
      "\u001b[37m(pry):582:in `pre_blast'\u001b[0m",
      "\u001b[37m(pry):595:in `<main>'\u001b[0m",
      "\u001b[37m/home/osboxes/.rvm/gems/ruby-2.6.3/gems/pry-0.12.2/lib/pry/pry_instance.rb:387:in `eval'\u001b[0m",
      "\u001b[37m/home/osboxes/.rvm/gems/ruby-2.6.3/gems/pry-0.12.2/lib/pry/pry_instance.rb:387:in `evaluate_ruby'\u001b[0m",
      "\u001b[37m/home/osboxes/.rvm/gems/ruby-2.6.3/gems/pry-0.12.2/lib/pry/pry_instance.rb:355:in `handle_line'\u001b[0m",
      "\u001b[37m/home/osboxes/.rvm/gems/ruby-2.6.3/gems/pry-0.12.2/lib/pry/pry_instance.rb:274:in `block (2 levels) in eval'\u001b[0m",
      "\u001b[37m/home/osboxes/.rvm/gems/ruby-2.6.3/gems/pry-0.12.2/lib/pry/pry_instance.rb:273:in `catch'\u001b[0m",
      "\u001b[37m/home/osboxes/.rvm/gems/ruby-2.6.3/gems/pry-0.12.2/lib/pry/pry_instance.rb:273:in `block in eval'\u001b[0m",
      "\u001b[37m/home/osboxes/.rvm/gems/ruby-2.6.3/gems/pry-0.12.2/lib/pry/pry_instance.rb:272:in `catch'\u001b[0m",
      "\u001b[37m/home/osboxes/.rvm/gems/ruby-2.6.3/gems/pry-0.12.2/lib/pry/pry_instance.rb:272:in `eval'\u001b[0m",
      "\u001b[37m/home/osboxes/.rvm/gems/ruby-2.6.3/gems/iruby-0.3/lib/iruby/backend.rb:66:in `eval'\u001b[0m",
      "\u001b[37m/home/osboxes/.rvm/gems/ruby-2.6.3/gems/iruby-0.3/lib/iruby/backend.rb:12:in `eval'\u001b[0m",
      "\u001b[37m/home/osboxes/.rvm/gems/ruby-2.6.3/gems/iruby-0.3/lib/iruby/kernel.rb:87:in `execute_request'\u001b[0m",
      "\u001b[37m/home/osboxes/.rvm/gems/ruby-2.6.3/gems/iruby-0.3/lib/iruby/kernel.rb:47:in `dispatch'\u001b[0m",
      "\u001b[37m/home/osboxes/.rvm/gems/ruby-2.6.3/gems/iruby-0.3/lib/iruby/kernel.rb:37:in `run'\u001b[0m",
      "\u001b[37m/home/osboxes/.rvm/gems/ruby-2.6.3/gems/iruby-0.3/lib/iruby/command.rb:70:in `run_kernel'\u001b[0m",
      "\u001b[37m/home/osboxes/.rvm/gems/ruby-2.6.3/gems/iruby-0.3/lib/iruby/command.rb:34:in `run'\u001b[0m",
      "\u001b[37m/home/osboxes/.rvm/gems/ruby-2.6.3/gems/iruby-0.3/bin/iruby:5:in `<top (required)>'\u001b[0m",
      "\u001b[37m/home/osboxes/.rvm/gems/ruby-2.6.3/bin/iruby:23:in `load'\u001b[0m",
      "\u001b[37m/home/osboxes/.rvm/gems/ruby-2.6.3/bin/iruby:23:in `<main>'\u001b[0m",
      "\u001b[37m/home/osboxes/.rvm/gems/ruby-2.6.3/bin/ruby_executable_hooks:24:in `eval'\u001b[0m",
      "\u001b[37m/home/osboxes/.rvm/gems/ruby-2.6.3/bin/ruby_executable_hooks:24:in `<main>'\u001b[0m"
     ]
    }
   ],
   "source": [
    "if type(search_file) == 'Nucl' and type(target_file) == 'Nucl' # Both files contain genomes\n",
    "    pre_blast('blastn', 'blastn')\n",
    "  \n",
    "elsif type(search_file) == 'Prot' and type(target_file) == 'Prot' # Both files contain proteomes\n",
    "    pre_blast('blastp', 'blastp')\n",
    "\n",
    "elsif type(search_file) == 'Nucl' and type(target_file) == 'Prot' # First file contains a genome and the second one a proteome\n",
    "    pre_blast('tblastn', 'blastx')\n",
    "    \n",
    "elsif type(search_file) == 'Prot' and type(target_file) == 'Nucl' # First file contains a proteome and the second one a genome\n",
    "    pre_blast('blastx', 'tblastn')\n",
    "end\n"
   ]
  },
  {
   "cell_type": "code",
   "execution_count": null,
   "metadata": {},
   "outputs": [],
   "source": []
  }
 ],
 "metadata": {
  "kernelspec": {
   "display_name": "Ruby 2.6.3",
   "language": "ruby",
   "name": "ruby"
  },
  "language_info": {
   "file_extension": ".rb",
   "mimetype": "application/x-ruby",
   "name": "ruby",
   "version": "2.6.3"
  }
 },
 "nbformat": 4,
 "nbformat_minor": 2
}
