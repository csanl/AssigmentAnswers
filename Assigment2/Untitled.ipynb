{
 "cells": [
  {
   "cell_type": "code",
   "execution_count": 12,
   "metadata": {},
   "outputs": [
    {
     "name": "stdout",
     "output_type": "stream",
     "text": [
      "{\"EMBL\"=>[[\"AF143691\", \"AAD37362.1\", \"-\", \"mRNA\"], [\"AF134126\", \"AAD28773.1\", \"-\", \"mRNA\"], [\"AB010695\", \"BAB10750.1\", \"-\", \"Genomic_DNA\"], [\"CP002688\", \"AED96477.1\", \"-\", \"Genomic_DNA\"], [\"AF361858\", \"AAK32870.1\", \"-\", \"mRNA\"], [\"AF372917\", \"AAK49633.1\", \"-\", \"mRNA\"], [\"AY057735\", \"AAL15365.1\", \"-\", \"mRNA\"], [\"AK318653\", \"BAH56768.1\", \"-\", \"mRNA\"], [\"Z18479\", \"CAA79201.1\", \"-\", \"mRNA\"], [\"GL348720\", \"EFH40582.1\", \"-\", \"Genomic_DNA\"], [\"LUHQ01000005\", \"OAO95972.1\", \"-\", \"Genomic_DNA\"], [\"LUHQ01000005\", \"OAO89788.1\", \"-\", \"Genomic_DNA\"]], \"PIR\"=>[[\"T52318\", \"T52318\"]], \"RefSeq\"=>[[\"NP_200238.1\", \"NM_124807.4. [Q9S7M0-1\"], [\"XP_002864323.1\", \"XM_002864277.1\"], [\"NP_200238.1\", \"NM_124807.4\"], [\"NP_568821.1\", \"NM_124896.3\"]], \"SMR\"=>[[\"Q9S7M0\", \"-\"], [\"A0A178USW4\", \"-\"], [\"A0A178U792\", \"-\"]], \"STRING\"=>[[\"3702.AT5G54270.1\", \"-\"], [\"59689.fgenesh2_kg.8__1328__AT5G54270.1\", \"-\"]], \"iPTMnet\"=>[[\"Q9S7M0\", \"-\"]], \"PaxDb\"=>[[\"Q9S7M0\", \"-\"]], \"PRIDE\"=>[[\"Q9S7M0\", \"-\"], [\"D7MU76\", \"-\"]], \"EnsemblPlants\"=>[[\"AT5G54270.1\", \"AT5G54270.1\", \"AT5G54270. [Q9S7M0-1\"], [\"fgenesh2_kg.8__1328__AT5G54270.1\", \"fgenesh2_kg.8__1328__AT5G54270.1\", \"fgenesh2_kg.8__1328__AT5G54270.1\"], [\"AT5G54270.1\", \"AT5G54270.1\", \"AT5G54270\"], [\"AT5G55140.1\", \"AT5G55140.1\", \"AT5G55140\"]], \"GeneID\"=>[[\"835515\", \"-\"], [\"9300399\", \"-\"], [\"835515\", \"-\"], [\"835607\", \"-\"]], \"Gramene\"=>[[\"AT5G54270.1\", \"AT5G54270.1\", \"AT5G54270. [Q9S7M0-1\"], [\"fgenesh2_kg.8__1328__AT5G54270.1\", \"fgenesh2_kg.8__1328__AT5G54270.1\", \"fgenesh2_kg.8__1328__AT5G54270.1\"], [\"AT5G54270.1\", \"AT5G54270.1\", \"AT5G54270\"], [\"AT5G55140.1\", \"AT5G55140.1\", \"AT5G55140\"]], \"KEGG\"=>[[\"ath:AT5G54270\", \"-\"], [\"aly:ARALYDRAFT_495512\", \"-\"], [\"ath:AT5G54270\", \"-\"], [\"ath:AT5G55140\", \"-\"]], \"Araport\"=>[[\"AT5G54270\", \"-\"]], \"TAIR\"=>[[\"locus:2162540\", \"AT5G54270\"]], \"eggNOG\"=>[[\"ENOG410IKZW\", \"Eukaryota\"], [\"ENOG410YAI6\", \"LUCA\"]], \"HOGENOM\"=>[[\"HOG000238032\", \"-\"]], \"InParanoid\"=>[[\"Q9S7M0\", \"-\"]], \"KO\"=>[[\"K08914\", \"-\"], [\"K08914\", \"-\"], [\"K08914\", \"-\"], [\"K02907\", \"-\"]], \"OMA\"=>[[\"RITMSNE\", \"-\"], [\"RITMSNE\", \"-\"], [\"MYNARKE\", \"-\"]], \"OrthoDB\"=>[[\"986689at2759\", \"-\"], [\"986689at2759\", \"-\"], [\"986689at2759\", \"-\"], [\"1523595at2759\", \"-\"]], \"PhylomeDB\"=>[[\"Q9S7M0\", \"-\"], [\"A0A178USW4\", \"-\"]], \"PRO\"=>[[\"PR:Q9S7M0\", \"-\"]], \"Proteomes\"=>[[\"UP000006548\", \"Chromosome 5\"], [\"UP000008694\", \"Unassembled WGS sequence\"], [\"UP000078284\", \"Chromosome 5\"], [\"UP000078284\", \"Chromosome 5\"]], \"ExpressionAtlas\"=>[[\"Q9S7M0\", \"baseline and differential\"], [\"A0A178USW4\", \"baseline and differential\"], [\"A0A178U792\", \"baseline and differential\"]], \"GO\"=>[[\"GO:0009507\", \"C:chloroplast\", \"IDA:TAIR\"], [\"GO:0009941\", \"C:chloroplast envelope\", \"IBA:GO_Central\"], [\"GO:0009534\", \"C:chloroplast thylakoid\", \"IDA:TAIR\"], [\"GO:0009535\", \"C:chloroplast thylakoid membrane\", \"IDA:TAIR\"], [\"GO:0016021\", \"C:integral component of membrane\", \"IEA:UniProtKB-KW\"], [\"GO:0009522\", \"C:photosystem I\", \"IEA:UniProtKB-KW\"], [\"GO:0009523\", \"C:photosystem II\", \"IEA:UniProtKB-KW\"], [\"GO:0009536\", \"C:plastid\", \"HDA:TAIR\"], [\"GO:0010287\", \"C:plastoglobule\", \"IBA:GO_Central\"], [\"GO:0009517\", \"C:PSII associated light-harvesting complex II\", \"IDA:TAIR\"], [\"GO:0009579\", \"C:thylakoid\", \"IDA:TAIR\"], [\"GO:0042651\", \"C:thylakoid membrane\", \"IDA:UniProtKB\"], [\"GO:0016168\", \"F:chlorophyll binding\", \"IEA:UniProtKB-KW\"], [\"GO:0046872\", \"F:metal ion binding\", \"IEA:UniProtKB-KW\"], [\"GO:0019904\", \"F:protein domain specific binding\", \"IPI:CAFA\"], [\"GO:0015979\", \"P:photosynthesis\", \"IMP:TAIR\"], [\"GO:0009768\", \"P:photosynthesis, light harvesting in photosystem I\", \"IBA:GO_Central\"], [\"GO:0009769\", \"P:photosynthesis, light harvesting in photosystem II\", \"IMP:UniProtKB\"], [\"GO:0018298\", \"P:protein-chromophore linkage\", \"IEA:UniProtKB-KW\"], [\"GO:0010119\", \"P:regulation of stomatal movement\", \"IMP:UniProtKB\"], [\"GO:0009737\", \"P:response to abscisic acid\", \"IMP:UniProtKB\"], [\"GO:0009635\", \"P:response to herbicide\", \"IEP:UniProtKB\"], [\"GO:0009644\", \"P:response to high light intensity\", \"IEP:UniProtKB\"], [\"GO:0009416\", \"P:response to light stimulus\", \"IBA:GO_Central\"], [\"GO:0016021\", \"C:integral component of membrane\", \"IEA:UniProtKB-KW\"], [\"GO:0009522\", \"C:photosystem I\", \"IEA:UniProtKB-KW\"], [\"GO:0009523\", \"C:photosystem II\", \"IEA:UniProtKB-KW\"], [\"GO:0009517\", \"C:PSII associated light-harvesting complex II\", \"IEA:EnsemblPlants\"], [\"GO:0016168\", \"F:chlorophyll binding\", \"IEA:UniProtKB-KW\"], [\"GO:0019904\", \"F:protein domain specific binding\", \"IEA:EnsemblPlants\"], [\"GO:0009769\", \"P:photosynthesis, light harvesting in photosystem II\", \"IEA:EnsemblPlants\"], [\"GO:0018298\", \"P:protein-chromophore linkage\", \"IEA:UniProtKB-KW\"], [\"GO:0010119\", \"P:regulation of stomatal movement\", \"IEA:EnsemblPlants\"], [\"GO:0009737\", \"P:response to abscisic acid\", \"IEA:EnsemblPlants\"], [\"GO:0009635\", \"P:response to herbicide\", \"IEA:EnsemblPlants\"], [\"GO:0009644\", \"P:response to high light intensity\", \"IEA:EnsemblPlants\"], [\"GO:0009535\", \"C:chloroplast thylakoid membrane\", \"IEA:UniProtKB-SubCell\"], [\"GO:0016021\", \"C:integral component of membrane\", \"IEA:UniProtKB-KW\"], [\"GO:0009522\", \"C:photosystem I\", \"IEA:UniProtKB-KW\"], [\"GO:0009523\", \"C:photosystem II\", \"IEA:UniProtKB-KW\"], [\"GO:0016168\", \"F:chlorophyll binding\", \"IEA:UniProtKB-KW\"], [\"GO:0009765\", \"P:photosynthesis, light harvesting\", \"IEA:InterPro\"], [\"GO:0018298\", \"P:protein-chromophore linkage\", \"IEA:UniProtKB-KW\"], [\"GO:0015934\", \"C:large ribosomal subunit\", \"IEA:InterPro\"], [\"GO:0003735\", \"F:structural constituent of ribosome\", \"IEA:InterPro\"], [\"GO:0006412\", \"P:translation\", \"IEA:InterPro\"]], \"Gene3D\"=>[[\"1.10.3460.10\", \"-\", \"1\"], [\"1.10.3460.10\", \"-\", \"1\"], [\"1.10.3460.10\", \"-\", \"1\"], [\"3.30.1390.20\", \"-\", \"1\"]], \"InterPro\"=>[[\"IPR001344\", \"Chloro_AB-bd_pln\"], [\"IPR022796\", \"Chloroa_b-bind\"], [\"IPR023329\", \"Chlorophyll_a/b-bd_dom_sf\"], [\"IPR001344\", \"Chloro_AB-bd_pln\"], [\"IPR022796\", \"Chloroa_b-bind\"], [\"IPR023329\", \"Chlorophyll_a/b-bd_dom_sf\"], [\"IPR001344\", \"Chloro_AB-bd_pln\"], [\"IPR022796\", \"Chloroa_b-bind\"], [\"IPR023329\", \"Chlorophyll_a/b-bd_dom_sf\"], [\"IPR036919\", \"L30_ferredoxin-like_sf\"], [\"IPR005996\", \"Ribosomal_L30_bac-type\"], [\"IPR016082\", \"Ribosomal_L30_ferredoxin-like\"]], \"PANTHER\"=>[[\"PTHR21649\", \"PTHR21649\", \"1\"], [\"PTHR21649\", \"PTHR21649\", \"1\"], [\"PTHR21649\", \"PTHR21649\", \"1\"], [\"PTHR15892\", \"PTHR15892\", \"1\"]], \"Pfam\"=>[[\"PF00504\", \"Chloroa_b-bind\", \"1\"], [\"PF00504\", \"Chloroa_b-bind\", \"1\"], [\"PF00504\", \"Chloroa_b-bind\", \"1\"], [\"PF00327\", \"Ribosomal_L30\", \"1\"]], \"CDD\"=>[[\"cd01658\", \"Ribosomal_L30\", \"1\"]], \"HAMAP\"=>[[\"MF_01371_B\", \"Ribosomal_L30_B\", \"1\"]], \"SUPFAM\"=>[[\"SSF55129\", \"SSF55129\", \"1\"]], \"TIGRFAMs\"=>[[\"TIGR01308\", \"rpmD_bact\", \"1\"]]}\n"
     ]
    }
   ],
   "source": [
    "require 'rest-client'\n",
    "require 'json'  # to handle JSON format\n",
    "#require 'pp'  # \"pretty print\"  (an alternative to puts for simple output to screen)\n",
    "\n",
    "\n",
    "address = 'http://togows.dbcls.jp/entry/ebi-uniprot/AT5g54270/dr.json'\n",
    "\n",
    "response = RestClient::Request.execute(\n",
    "  method: :get,\n",
    "  url: address)  \n",
    "\n",
    "# puts response.body\n",
    "\n",
    "data = JSON.parse(response.body)\n",
    "\n",
    "\n",
    "puts data[0]\n",
    "\n",
    "# for elem in data[0][\"Uniprot\"].each\n",
    "#   # puts elem\n",
    "#   puts \"InterPro ID: #{elem[0]}  name: #{elem[1]}\"\n",
    "# end"
   ]
  },
  {
   "cell_type": "code",
   "execution_count": 24,
   "metadata": {},
   "outputs": [
    {
     "name": "stdout",
     "output_type": "stream",
     "text": [
      "\n"
     ]
    }
   ],
   "source": [
    "require 'rest-client'\n",
    "require 'json'  # to handle JSON format\n",
    "#require 'pp'  # \"pretty print\"  (an alternative to puts for simple output to screen)\n",
    "\n",
    "\n",
    "address = 'http://togows.org/entry/kegg-genes/ath:AT5G54270.json'\n",
    "response = RestClient::Request.execute(\n",
    "  method: :get,\n",
    "  url: address)  \n",
    "\n",
    "# puts response.body\n",
    "\n",
    "data = JSON.parse(response.body)\n",
    "\n",
    "puts data[0]['Uniprot']\n"
   ]
  },
  {
   "cell_type": "code",
   "execution_count": null,
   "metadata": {},
   "outputs": [],
   "source": [
    "http://togows.org/entry/ebi-uniprot/At4g18960/accessions.json\n",
    "http://www.ebi.ac.uk/Tools/webservices/psicquic/intact/webservices/current/search/query/O82732?format=tab25\n"
   ]
  },
  {
   "cell_type": "code",
   "execution_count": 10,
   "metadata": {},
   "outputs": [
    {
     "data": {
      "text/plain": [
       "\"P17839\""
      ]
     },
     "execution_count": 10,
     "metadata": {},
     "output_type": "execute_result"
    }
   ],
   "source": [
    "require 'rest-client'\n",
    "require 'json'  # to handle JSON format\n",
    "#require 'pp'  # \"pretty print\"  (an alternative to puts for simple output to screen)\n",
    "\n",
    "\n",
    "address = 'http://togows.org/entry/ebi-uniprot/At4g18960/accessions.json'\n",
    "response = RestClient::Request.execute(\n",
    "  method: :get,\n",
    "  url: address)  \n",
    "\n",
    "# puts response.body\n",
    "\n",
    "data = JSON.parse(response.body)\n",
    "uniprotid1 = data[0][0]\n",
    "uniprotid1\n",
    "\n"
   ]
  },
  {
   "cell_type": "code",
   "execution_count": 12,
   "metadata": {},
   "outputs": [
    {
     "ename": "URI::InvalidURIError",
     "evalue": "bad URI(is not URI?): \"http://www.ebi.ac.uk/Tools/webservices/psicquic/intact/webservices/current/search/query/\\#{uniprotid}?format=tab25\"",
     "output_type": "error",
     "traceback": [
      "\u001b[31mURI::InvalidURIError\u001b[0m: bad URI(is not URI?): \"http://www.ebi.ac.uk/Tools/webservices/psicquic/intact/webservices/current/search/query/\\#{uniprotid}?format=tab25\"",
      "\u001b[37m/home/osboxes/.rvm/rubies/ruby-2.6.3/lib/ruby/2.6.0/uri/rfc3986_parser.rb:67:in `split'\u001b[0m",
      "\u001b[37m/home/osboxes/.rvm/rubies/ruby-2.6.3/lib/ruby/2.6.0/uri/rfc3986_parser.rb:73:in `parse'\u001b[0m",
      "\u001b[37m/home/osboxes/.rvm/rubies/ruby-2.6.3/lib/ruby/2.6.0/uri/common.rb:234:in `parse'\u001b[0m",
      "\u001b[37m/home/osboxes/.rvm/rubies/ruby-2.6.3/lib/ruby/2.6.0/uri/common.rb:737:in `URI'\u001b[0m",
      "\u001b[37m(pry):174:in `get_inact'\u001b[0m",
      "\u001b[37m(pry):185:in `<main>'\u001b[0m",
      "\u001b[37m/home/osboxes/.rvm/gems/ruby-2.6.3/gems/pry-0.12.2/lib/pry/pry_instance.rb:387:in `eval'\u001b[0m",
      "\u001b[37m/home/osboxes/.rvm/gems/ruby-2.6.3/gems/pry-0.12.2/lib/pry/pry_instance.rb:387:in `evaluate_ruby'\u001b[0m",
      "\u001b[37m/home/osboxes/.rvm/gems/ruby-2.6.3/gems/pry-0.12.2/lib/pry/pry_instance.rb:355:in `handle_line'\u001b[0m",
      "\u001b[37m/home/osboxes/.rvm/gems/ruby-2.6.3/gems/pry-0.12.2/lib/pry/pry_instance.rb:274:in `block (2 levels) in eval'\u001b[0m",
      "\u001b[37m/home/osboxes/.rvm/gems/ruby-2.6.3/gems/pry-0.12.2/lib/pry/pry_instance.rb:273:in `catch'\u001b[0m",
      "\u001b[37m/home/osboxes/.rvm/gems/ruby-2.6.3/gems/pry-0.12.2/lib/pry/pry_instance.rb:273:in `block in eval'\u001b[0m",
      "\u001b[37m/home/osboxes/.rvm/gems/ruby-2.6.3/gems/pry-0.12.2/lib/pry/pry_instance.rb:272:in `catch'\u001b[0m",
      "\u001b[37m/home/osboxes/.rvm/gems/ruby-2.6.3/gems/pry-0.12.2/lib/pry/pry_instance.rb:272:in `eval'\u001b[0m",
      "\u001b[37m/home/osboxes/.rvm/gems/ruby-2.6.3/gems/iruby-0.3/lib/iruby/backend.rb:66:in `eval'\u001b[0m",
      "\u001b[37m/home/osboxes/.rvm/gems/ruby-2.6.3/gems/iruby-0.3/lib/iruby/backend.rb:12:in `eval'\u001b[0m",
      "\u001b[37m/home/osboxes/.rvm/gems/ruby-2.6.3/gems/iruby-0.3/lib/iruby/kernel.rb:87:in `execute_request'\u001b[0m",
      "\u001b[37m/home/osboxes/.rvm/gems/ruby-2.6.3/gems/iruby-0.3/lib/iruby/kernel.rb:47:in `dispatch'\u001b[0m",
      "\u001b[37m/home/osboxes/.rvm/gems/ruby-2.6.3/gems/iruby-0.3/lib/iruby/kernel.rb:37:in `run'\u001b[0m",
      "\u001b[37m/home/osboxes/.rvm/gems/ruby-2.6.3/gems/iruby-0.3/lib/iruby/command.rb:70:in `run_kernel'\u001b[0m",
      "\u001b[37m/home/osboxes/.rvm/gems/ruby-2.6.3/gems/iruby-0.3/lib/iruby/command.rb:34:in `run'\u001b[0m",
      "\u001b[37m/home/osboxes/.rvm/gems/ruby-2.6.3/gems/iruby-0.3/bin/iruby:5:in `<top (required)>'\u001b[0m",
      "\u001b[37m/home/osboxes/.rvm/gems/ruby-2.6.3/bin/iruby:23:in `load'\u001b[0m",
      "\u001b[37m/home/osboxes/.rvm/gems/ruby-2.6.3/bin/iruby:23:in `<main>'\u001b[0m",
      "\u001b[37m/home/osboxes/.rvm/gems/ruby-2.6.3/bin/ruby_executable_hooks:24:in `eval'\u001b[0m",
      "\u001b[37m/home/osboxes/.rvm/gems/ruby-2.6.3/bin/ruby_executable_hooks:24:in `<main>'\u001b[0m"
     ]
    }
   ],
   "source": [
    "require 'rest-client'\n",
    "require 'json'  # to handle JSON format\n",
    "#require 'pp'  # \"pretty print\"  (an alternative to puts for simple output to screen)\n",
    "\n",
    "def get_inact(uniprotid)\n",
    "\n",
    "  address = URI('http://www.ebi.ac.uk/Tools/webservices/psicquic/intact/webservices/current/search/query/#{uniprotid}?format=tab25')\n",
    "  response = RestClient::Request.execute(\n",
    "  method: :get,\n",
    "  url: address)  \n",
    "\n",
    "# puts response.body\n",
    "\n",
    "  data = JSON.parse(response.body)\n",
    "  \n",
    "end\n",
    "\n",
    "get_inact(uniprotid1)"
   ]
  },
  {
   "cell_type": "code",
   "execution_count": null,
   "metadata": {},
   "outputs": [],
   "source": []
  },
  {
   "cell_type": "code",
   "execution_count": null,
   "metadata": {},
   "outputs": [],
   "source": []
  }
 ],
 "metadata": {
  "kernelspec": {
   "display_name": "Ruby 2.6.3",
   "language": "ruby",
   "name": "ruby"
  },
  "language_info": {
   "file_extension": ".rb",
   "mimetype": "application/x-ruby",
   "name": "ruby",
   "version": "2.6.3"
  }
 },
 "nbformat": 4,
 "nbformat_minor": 2
}
