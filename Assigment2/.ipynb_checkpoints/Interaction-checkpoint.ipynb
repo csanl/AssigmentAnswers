{
 "cells": [
  {
   "cell_type": "code",
   "execution_count": null,
   "metadata": {},
   "outputs": [],
   "source": [
    "\n",
    "class Network\n",
    "  attr_accessor :network_id\n",
    "  attr_accessor :network_genes\n",
    "  @@number_of_networks = 0\n",
    "  @@total_networks = Hash.new\n",
    "  \n",
    "  \n",
    "  def initialize (params = {}) \n",
    "      @network_id = params.fetch(:network_id, 'nada')\n",
    "      @network_genes = params.fetch(:network_genes, 'nada')\n",
    "    \n",
    "      @@number_of_networks =+ 1\n",
    "      @@total_networks[network_id] = self\n",
    "  end\n",
    "  \n",
    "  def Network.get_primary_network  \n",
    "    network = Hash.new\n",
    "    Gene.get_array_all_id.each_with_index do |id, index|\n",
    "    \n",
    "      if Gene.get_all_objects[\"#{id}\"].gene_depth == 1 \n",
    "        network[\"#{id}\"] = Array.new\n",
    "        Gene.get_all_objects[\"#{id}\"].int_array.each do |gene2|\n",
    "          if not network[\"#{id}\"].include?(gene2)\n",
    "            network[\"#{id}\"] << gene2\n",
    "          end\n",
    "          Gene.get_all_objects[\"#{gene2}\"].int_array.each do |gene3|\n",
    "            if not network[\"#{id}\"].include?(gene3)\n",
    "            network[\"#{id}\"]<< gene3\n",
    "            end\n",
    "          end \n",
    "        end\n",
    "      end\n",
    "#       puts \" network de #{index} \\n  #{network[\"#{index}\"]}\" \n",
    "    end\n",
    "    return network\n",
    "  end\n",
    "  \n",
    "  def Network.get_merged_network\n",
    "      Network.get_primary_network.each_with_index do |i, index|\n",
    "      #   puts i[1]\n",
    "        Network.get_primary_network.each do |j|\n",
    "         if i[1] != j[1]\n",
    "           c = i[1] & j[1]\n",
    "           if not c.empty?\n",
    "             Network.get_primary_network[index] = i[1] + j[1]\n",
    "             Network.get_primary_network.delete(j[1])\n",
    "           end\n",
    "         end\n",
    "        end\n",
    "      end\n",
    "  end\n",
    "  \n",
    "\n",
    "  \n",
    " \n",
    "          \n",
    "     #pensar lo de network_id, que creo que puede ser la del gen del level 1... o no pq habrá varios genes xd\n",
    "  \n",
    "end"
   ]
  },
  {
   "cell_type": "code",
   "execution_count": null,
   "metadata": {},
   "outputs": [],
   "source": [
    "puts Network.get_primary_network"
   ]
  },
  {
   "cell_type": "code",
   "execution_count": null,
   "metadata": {},
   "outputs": [],
   "source": [
    "Network.get_primary_network.each_with_index do |i, index|\n",
    "#   puts i[1]\n",
    "  Network.get_primary_network.each do |j|\n",
    "   if i[1] != j[1]\n",
    "     c = i[1] & j[1]\n",
    "     if not c.empty?\n",
    "       Network.get_primary_network[index] = i[1] + j[1]\n",
    "       Network.get_primary_network.delete(j[1])\n",
    "     end\n",
    "   end\n",
    "  end\n",
    "end\n",
    "\n",
    "puts Network.get_primary_network\n",
    "\n",
    "       \n",
    "    \n",
    "#       hash.each_with_index do |i, index|\n",
    "#         puts i\n",
    "#         hash[1].each do |j|\n",
    "#           if i != j\n",
    "#             c = i & j\n",
    "#               if not c.empty?\n",
    "#                 hash[1][index] = i + j\n",
    "#                 hash[1].delete(j)\n",
    "#               end\n",
    "#           end\n",
    "#         end\n"
   ]
  },
  {
   "cell_type": "code",
   "execution_count": null,
   "metadata": {},
   "outputs": [],
   "source": [
    "network = Array.new\n",
    "network[0]=[1,2]\n",
    "network[1] = [4,6,7,8]\n",
    "network[2]=[2,5]\n",
    "network[3]=[4,8,9]\n",
    "\n",
    "puts network\n",
    "# newnet = Hash.new\n",
    "#     c = Array.new\n",
    "    network.each_with_index do |i, index|\n",
    "      puts \" ESTE #{i}\"\n",
    "#     newnet[i]= Array.new\n",
    "      network.each do |j|\n",
    "#         puts j\n",
    "        if i != j \n",
    "          c = i & j\n",
    "           if not c.empty?\n",
    "             puts \" el mix es #{c}\"\n",
    "             network[index] = i + j\n",
    "             network.delete(j)\n",
    "           end\n",
    "        end\n",
    "      end\n",
    "#     return newnet\n",
    "    end\n",
    "puts network"
   ]
  },
  {
   "cell_type": "code",
   "execution_count": null,
   "metadata": {},
   "outputs": [],
   "source": [
    "Gene.get_array_all_id"
   ]
  },
  {
   "cell_type": "code",
   "execution_count": null,
   "metadata": {},
   "outputs": [],
   "source": [
    "   newnet = Hash.new\n",
    "    c = Array.new\n",
    "    network.each do |i|\n",
    "    newnet[i]= Array.new\n",
    "      network.each do |j|\n",
    "        if i != j \n",
    "          c = network[i] & network[j]\n",
    "           if c\n",
    "             newnet[i] = c\n",
    "           end\n",
    "        end\n",
    "      end\n",
    "    return newnet\n",
    "    end"
   ]
  },
  {
   "cell_type": "code",
   "execution_count": null,
   "metadata": {},
   "outputs": [],
   "source": [
    "Gene.get_all_objects.each do |id|\n",
    "  puts id[0]\n",
    "end"
   ]
  },
  {
   "cell_type": "code",
   "execution_count": null,
   "metadata": {},
   "outputs": [],
   "source": [
    "Network.get_primary_network.each do |i|\n",
    "  puts i[1][1]\n",
    "end\n"
   ]
  },
  {
   "cell_type": "code",
   "execution_count": null,
   "metadata": {},
   "outputs": [],
   "source": [
    "Gene.total_number"
   ]
  },
  {
   "cell_type": "code",
   "execution_count": null,
   "metadata": {},
   "outputs": [],
   "source": [
    "require 'rest-client'   # this is how you access the Web IMPORTANTEEEEEEE COPY_PAST\n",
    "require 'json'\n",
    "require './Gene.rb'\n",
    "\n",
    "def fetch(url, headers = {accept: \"*/*\"}, user = \"\", pass=\"\") #lo mas imp es la url\n",
    "  response = RestClient::Request.execute({\n",
    "    method: :get,\n",
    "    url: url.to_s,\n",
    "    user: user,\n",
    "    password: pass,\n",
    "    headers: headers})\n",
    "  return response\n",
    "  #si algo va mal:rescue\n",
    "  rescue RestClient::ExceptionWithResponse => e\n",
    "    $stderr.puts e.response\n",
    "    response = false\n",
    "    return response  # now we are returning 'False', and we will check that with an \\\"if\\\" statement in our main code\n",
    "  rescue RestClient::Exception => e\n",
    "    $stderr.puts e.response\n",
    "    response = false\n",
    "    return response  # now we are returning 'False', and we will check that with an \\\"if\\\" statement in our main code\n",
    "  rescue Exception => e\n",
    "    $stderr.puts e\n",
    "    response = false\n",
    "    return response  # now we are returning 'False', and we will check that with an \\\"if\\\" statement in our main code\n",
    "end \n",
    " "
   ]
  },
  {
   "cell_type": "code",
   "execution_count": null,
   "metadata": {},
   "outputs": [],
   "source": [
    "Gene.create_object('./genesprueba.txt')\n"
   ]
  },
  {
   "cell_type": "code",
   "execution_count": null,
   "metadata": {},
   "outputs": [],
   "source": [
    "$max_depth_level = 1\n",
    "$LEVEL = 2\n",
    "# $all_gene_id = Array.new\n",
    "Gene.create_object_next_depth"
   ]
  },
  {
   "cell_type": "code",
   "execution_count": null,
   "metadata": {},
   "outputs": [],
   "source": [
    "Gene.total_number"
   ]
  },
  {
   "cell_type": "code",
   "execution_count": null,
   "metadata": {},
   "outputs": [],
   "source": []
  }
 ],
 "metadata": {
  "kernelspec": {
   "display_name": "Ruby 2.6.3",
   "language": "ruby",
   "name": "ruby"
  },
  "language_info": {
   "file_extension": ".rb",
   "mimetype": "application/x-ruby",
   "name": "ruby",
   "version": "2.6.3"
  }
 },
 "nbformat": 4,
 "nbformat_minor": 2
}
