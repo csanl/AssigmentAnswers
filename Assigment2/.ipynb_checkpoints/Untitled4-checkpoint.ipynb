{
 "cells": [
  {
   "cell_type": "markdown",
   "metadata": {},
   "source": [
    "Assigment3\n",
    "GFF compatible con ENsamble (hay qur tener en cuenta solo una cosa, pero no sé qué) \n",
    "algo de que primero hagamos una secuencia corta de nt \n",
    "cuando hacemos el reverso a veces se mueve 1, y lo fastidia todo \n"
   ]
  }
 ],
 "metadata": {
  "kernelspec": {
   "display_name": "Ruby 2.6.3",
   "language": "ruby",
   "name": "ruby"
  },
  "language_info": {
   "file_extension": ".rb",
   "mimetype": "application/x-ruby",
   "name": "ruby",
   "version": "2.6.3"
  }
 },
 "nbformat": 4,
 "nbformat_minor": 2
}
